{
  "nbformat": 4,
  "nbformat_minor": 0,
  "metadata": {
    "colab": {
      "provenance": []
    },
    "kernelspec": {
      "name": "python3",
      "display_name": "Python 3"
    },
    "language_info": {
      "name": "python"
    }
  },
  "cells": [
    {
      "cell_type": "markdown",
      "source": [
        "#ASSIGNMENT ON DATA TOOL KIT"
      ],
      "metadata": {
        "id": "TgxwMdQ30Hmx"
      }
    },
    {
      "cell_type": "markdown",
      "source": [
        "#1  What is NumPy, and why is it widely used in Python?\n",
        "\n",
        "Numpy (numerical Python) is a Python library for numerical computations .\n",
        "\n",
        "_ It provides powerful ndimensional array objects and tools for linear algebra , fourier transformation ,and random number capabilities .\n",
        "\n",
        "Why used:\n",
        "\n",
        "- Fast operations using C- shaped arrays\n",
        "- Vectorization replaces slow Python loops\n",
        "- Essential for scientific computing and data analysis"
      ],
      "metadata": {
        "id": "slCF8YSL0Lsa"
      }
    },
    {
      "cell_type": "markdown",
      "source": [
        "#2 How does broadcasting work in NumPy?\n",
        "\n",
        "Broadcasting allows Numpy to perform arithmetic betn arrays of different shapes .\n",
        "It dimensions differ , NumPY automatically expands the smaller array to match the larger one for element wise operations.\n",
        "\n",
        "* example\n"
      ],
      "metadata": {
        "id": "cYpWQK0H168Y"
      }
    },
    {
      "cell_type": "code",
      "source": [
        "import numpy as np\n",
        "\n",
        "np_array = np.array([1, 2, 3])\n",
        "result = np_array + 10\n",
        "print(result)"
      ],
      "metadata": {
        "colab": {
          "base_uri": "https://localhost:8080/"
        },
        "id": "RepjeWgH3BWZ",
        "outputId": "4b9516fe-8758-496d-a298-4db1b297d428"
      },
      "execution_count": null,
      "outputs": [
        {
          "output_type": "stream",
          "name": "stdout",
          "text": [
            "[11 12 13]\n"
          ]
        }
      ]
    },
    {
      "cell_type": "markdown",
      "source": [
        "#3 What is a Pandas DataFrame?\n",
        "\n",
        "A Data Frame is a 2D labeled data structure with coloumn of potentially different data types (like an Excel table )\n",
        "\n",
        "\n",
        "It is part of the Pandas library .\n",
        "\n",
        "\n",
        "Ideal for data cleaning , analysis,  and manipulation ."
      ],
      "metadata": {
        "id": "UWiUxQg33QiA"
      }
    },
    {
      "cell_type": "markdown",
      "source": [
        "#4 Explain the use of the groupby() method in Pandas?\n",
        "\n",
        "\n",
        "groupby splits data into groups based on one or more keys ,applies a function and combine results.\n",
        "\n",
        "\n",
        "Used for aggregation , summarization and analysis.\n",
        "\n",
        "example:\n",
        "\n",
        "\n",
        "df.groupby('Gender')['Marks'].mean() → average marks by gender.\n"
      ],
      "metadata": {
        "id": "Ls1okh1z3-F-"
      }
    },
    {
      "cell_type": "markdown",
      "source": [
        "#5. Why is Seaborn preferred for statistical visualizations?\n",
        "\n",
        "Sea born is built on Matplotlib but provides:\n",
        "\n",
        "- Simplified suntax\n",
        "\n",
        "- Built in statistical plots( violinplot , boxplot . pairplot)\n",
        "\n",
        "\n",
        "-Automatic aesthetics and themes\n",
        "\n",
        "\n",
        "Hence, its deal for data exploration  and presentation.\n",
        "\n",
        "\n",
        "\n"
      ],
      "metadata": {
        "id": "f80GJJfJ5as0"
      }
    },
    {
      "cell_type": "markdown",
      "source": [
        "# 6  What are the differences between NumPy arrays and Python lists?\n",
        "\n",
        "\n",
        "NumPy arrays and Python list may look similar , but they are quite different in how store and handle data.\n",
        "\n",
        "\n",
        "\n",
        "\n",
        "- Data Type\n",
        "NumPy arrays can store only one typre of data\n",
        "(homogenous),  whereas Python list can store different data types (heterogenous) .\n",
        "\n",
        "\n",
        "- Speed:\n",
        " NumPy array takes less memory compared to Python lists the same amount of data.\n",
        "\n",
        " - Operations:\n",
        "\n",
        " NumPY supports vectorized operations , meaning mathematical operations can be done directly on arrays without using loops . In contrast ,Python list require explicit looping for such tasks.\n",
        "\n",
        "\n",
        " - Functionality ⁉\n",
        " NumPy supports advanced mathetmatocal operations and statistical operations , broadcasting , andf multidimensional data handling . while list are limited to basic storage and iteration"
      ],
      "metadata": {
        "id": "oh-pFVHD7POv"
      }
    },
    {
      "cell_type": "code",
      "execution_count": null,
      "metadata": {
        "id": "-NMLKSv_0EfW"
      },
      "outputs": [],
      "source": [
        "#7  What is a heatmap, and when should it be used?\n",
        "\n",
        "\n",
        "A Heat map represents data values as colors in a matrix .\n",
        "Used to visualize correlations , confusion matrices , or intesnsity patterns .\n",
        "\n",
        "\n",
        "example:  sns.heatmap(df.corr())\n",
        "\n"
      ]
    },
    {
      "cell_type": "markdown",
      "source": [
        "#8 What does the term “vectorized operation” mean in NumPy?\n",
        "\n",
        "Vectorization mean applying operations directly on arrays without loop\n",
        "\n",
        "\n",
        "Its faster because computations are performed at C speed internally .\n",
        "\n",
        "\n",
        "Example a+b adds arraays element wise .\n",
        "\n"
      ],
      "metadata": {
        "id": "e1tGamFwJ295"
      }
    },
    {
      "cell_type": "markdown",
      "source": [
        "#9  How does Matplotlib differ from plotly ?\n",
        "\n",
        "- Type\n",
        "\n",
        "\n",
        "Matplotlip -  static plots\n",
        "\n",
        "\n",
        "\n",
        "Plotly - Interactive plots\n",
        "\n",
        "\n",
        "\n",
        "\n",
        "- Ease of use:\n",
        "\n",
        "\n",
        "\n",
        "Matplottlib - limited\n",
        "\n",
        "\n",
        "\n",
        "PLottly - zoom,hover , click faetures\n",
        "\n",
        "\n",
        "\n",
        "\n",
        "\n",
        "\n",
        "- Interactivity\n",
        "\n",
        "\n",
        "Matplotlib - Limited\n",
        "\n",
        "\n",
        "Plotly - zoom , hover , click features\n",
        "\n",
        "\n",
        "\n",
        "\n",
        "\n",
        "\n",
        "\n",
        "\n",
        "\n",
        "\n",
        "- Usage\n",
        "\n",
        "\n",
        "Matplotlib - For research and publications\n",
        "\n",
        "\n",
        "Plotly - HTML , interactive visualizations\n",
        "\n",
        "\n",
        "\n",
        "\n"
      ],
      "metadata": {
        "id": "vxpzdYQkKYLB"
      }
    },
    {
      "cell_type": "markdown",
      "source": [
        "#10 What is the significance of hierarchical indexing in Pandas?\n",
        "\n",
        "\n",
        "\n",
        "Hierarchical (Multi level ) indexing allows multiple index level on rows/ coloumns .\n",
        "\n",
        "\n",
        "\n",
        "Useful for working with high dimensional data in 2D format for easy subsetting."
      ],
      "metadata": {
        "id": "t3-UkG69L7Xq"
      }
    },
    {
      "cell_type": "markdown",
      "source": [
        "# 11 What is the role of Seaborn’s pairplot() function?\n",
        "\n",
        "\n",
        "\n",
        "\n",
        "pairplot() plots pairwise relationship betn variable in a dataset.\n",
        "\n",
        "\n",
        "\n",
        "Each variable is plotted against every other one - helpful for exploring co relations aand detecting patterns"
      ],
      "metadata": {
        "id": "jUYJp_p6MVIj"
      }
    },
    {
      "cell_type": "markdown",
      "source": [
        "# 12 What is the purpose of the describe() function in Pandas?\n",
        "\n",
        "describe () gives summary statistics for numerical coloumns:\n",
        "\n",
        "\n",
        "\n",
        "\n",
        "\n",
        "Count , mean ,std ,min ,quartiles and max - helps in quick data overview\n",
        "\n"
      ],
      "metadata": {
        "id": "ILCOSKLyM0_w"
      }
    },
    {
      "cell_type": "markdown",
      "source": [
        "#13 Why is handling missing data important in Pandas?\n",
        "\n",
        "Mising dat acan lead to biased reults or errors in analysis\n",
        "\n",
        "\n",
        "Handled using :\n",
        "\n",
        "- dropna () - removes missing data\n",
        "\n",
        "\n",
        "- fillna () - replace with mean?median?\n",
        "\n",
        "\n",
        "\n",
        "\n",
        "Ensures data integrity and accurate results\n",
        "\n",
        "\n",
        "\n",
        "\n"
      ],
      "metadata": {
        "id": "oRzYLNHVNRdR"
      }
    },
    {
      "cell_type": "markdown",
      "source": [
        "# 14 What are the benefits of using Plotly for data visualization?\n",
        "\n",
        "- Interactive charts (hover ,zoom ,fliter)\n",
        "\n",
        "\n",
        "- Web and dashboard integration(Dash)\n",
        "\n",
        "\n",
        "- supports 3D and real time visualizations\n",
        "\n",
        "\n",
        "\n",
        "- Easy export to HTML\n",
        "\n",
        "\n"
      ],
      "metadata": {
        "id": "2quNgbcXN8as"
      }
    },
    {
      "cell_type": "markdown",
      "source": [
        "#15 How does NumPy handle multidimensional arrays?\n",
        "\n",
        "NumPy uses the ndarray object , which can store Ndimensionl data (1d , 2d ,3d....)\n",
        "\n",
        "\n",
        "\n",
        "Each array has:\n",
        "\n",
        "\n",
        " - Shape (dimensions)\n",
        "\n",
        "\n",
        "\n",
        "- dtype (datatype)\n",
        "\n",
        "\n",
        "Supports efficient mathematical operations on any dimension.\n",
        "\n",
        "\n"
      ],
      "metadata": {
        "id": "l_YDe06dOexn"
      }
    },
    {
      "cell_type": "markdown",
      "source": [
        "#16 What is the role of Bokeh in data visualization\n",
        "\n",
        "\n",
        "Bokeh creates interactive , web based visiualization in browsers.\n",
        "\n",
        "Its good for dashboards and live data apps , with beautiful zommable plots .\n"
      ],
      "metadata": {
        "id": "FEJrI-SKPKqM"
      }
    },
    {
      "cell_type": "markdown",
      "source": [
        "#17 Explain the difference between apply() and map() in Pandas.\n",
        "\n",
        "| Function  | Works On         | Purpose                           |\n",
        "| --------- | ---------------- | --------------------------------- |\n",
        "| `map()`   | Series           | Apply function element-wise       |\n",
        "| `apply()` | Series/DataFrame | Apply function along rows/columns |\n",
        "\n",
        "\n",
        "\n",
        "\n",
        "\n",
        "\n",
        "\n",
        "\n",
        "#example\n",
        "\n",
        "\n",
        "\n",
        "\n",
        "\n",
        "\n",
        "df['A'].map(str.upper)  #for Series\n",
        "\n",
        "\n",
        "\n",
        "\n",
        "\n",
        "\n",
        "\n",
        "\n",
        "\n",
        "df.apply(np.sum, axis=0) #for DataFrame\n"
      ],
      "metadata": {
        "id": "KSCFHuEbPqnC"
      }
    },
    {
      "cell_type": "markdown",
      "source": [],
      "metadata": {
        "id": "s_j3YtLWQIZ-"
      }
    },
    {
      "cell_type": "markdown",
      "source": [
        "#18 What are some advanced features of NumPy?\n",
        "\n",
        "- Broadcasting\n",
        "\n",
        "- Linear algebra (numPy.linalg)\n",
        "\n",
        "\n",
        "- Random module (numpy.random)\n",
        "\n",
        "\n",
        "- FFT (fast Fourier transform)\n",
        "\n",
        "\n",
        "\n",
        "- Masked arrays and memory mapping"
      ],
      "metadata": {
        "id": "82f6DlIDQO7b"
      }
    },
    {
      "cell_type": "markdown",
      "source": [
        "#19 How does Pandas simplify time series analysis?\n",
        "\n",
        "\n",
        "- DatetimeIndes for easy data handling\n",
        "\n",
        "\n",
        "- Resampling , shifting , and rolling windows\n",
        "\n",
        "\n",
        "- Auto frequency conversion\n",
        "\n",
        "\n",
        "\n",
        "- Ideal for financial or trand analysis"
      ],
      "metadata": {
        "id": "RbB_4GM_Qohu"
      }
    },
    {
      "cell_type": "markdown",
      "source": [
        "#20  What is the role of a pivot table in Pandas?\n",
        "\n",
        "pivot_table() summarizes data based on categories - similar to Excel pivot table\n",
        "\n",
        "\n",
        "for example :\n",
        "pd.pivot_table(df, values='Sales', index='Region', columns='Year', aggfunc='sum')"
      ],
      "metadata": {
        "id": "hYGb_kNoRH3r"
      }
    },
    {
      "cell_type": "markdown",
      "source": [
        "# 21 Why is NumPy’s array slicing faster than Python’s list slicing?\n",
        "\n",
        "\n",
        "NumPy array are stored in contiguous memory blocks , allowing direct memory access.\n",
        "\n",
        "\n",
        "\n",
        "\n",
        "\n",
        "lists are pointers to seperate objects - slower access\n"
      ],
      "metadata": {
        "id": "xZJXaMVQRh7d"
      }
    },
    {
      "cell_type": "markdown",
      "source": [
        "# 22 What are some common use cases for Seaborn?\n",
        "\n",
        "\n",
        "- Correlation heat maps\n",
        "\n",
        "\n",
        "\n",
        "- Distribution plots (hist ,kde)\n",
        "\n",
        "\n",
        "- Categorical comparison (box , violin )\n",
        "\n",
        "\n",
        "\n",
        "- Regression analysis(Implot )\n",
        "\n",
        "\n",
        "- Pairwise relationship(pairplot)"
      ],
      "metadata": {
        "id": "cRPbQfArR0sb"
      }
    },
    {
      "cell_type": "code",
      "source": [],
      "metadata": {
        "id": "Cs6JUAOTRRhj"
      },
      "execution_count": null,
      "outputs": []
    },
    {
      "cell_type": "markdown",
      "source": [],
      "metadata": {
        "id": "Uzs9QLTrRGDn"
      }
    },
    {
      "cell_type": "code",
      "source": [],
      "metadata": {
        "id": "e0vihbcKQNNf"
      },
      "execution_count": null,
      "outputs": []
    },
    {
      "cell_type": "markdown",
      "source": [],
      "metadata": {
        "id": "mSU5TkhcQOd-"
      }
    },
    {
      "cell_type": "markdown",
      "source": [],
      "metadata": {
        "id": "81fopwWPPHDt"
      }
    },
    {
      "cell_type": "markdown",
      "source": [],
      "metadata": {
        "id": "SdoLQVhRMJpB"
      }
    },
    {
      "cell_type": "markdown",
      "source": [],
      "metadata": {
        "id": "djTvbvXoMJRf"
      }
    },
    {
      "cell_type": "markdown",
      "source": [],
      "metadata": {
        "id": "x3mrDJKhLsDO"
      }
    },
    {
      "cell_type": "markdown",
      "source": [],
      "metadata": {
        "id": "ULvb0UD7Lm1U"
      }
    },
    {
      "cell_type": "markdown",
      "source": [],
      "metadata": {
        "id": "HM0MkvfEKC5c"
      }
    }
  ]
}